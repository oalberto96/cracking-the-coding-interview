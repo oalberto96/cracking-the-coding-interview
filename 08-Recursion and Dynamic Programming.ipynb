{
 "cells": [
  {
   "cell_type": "markdown",
   "metadata": {},
   "source": [
    "Fibonacci Numbers"
   ]
  },
  {
   "cell_type": "markdown",
   "metadata": {},
   "source": [
    "![Linked list](img/08-dynamic-programming/001-exercise.png)"
   ]
  },
  {
   "cell_type": "code",
   "execution_count": 29,
   "metadata": {},
   "outputs": [
    {
     "data": {
      "text/plain": [
       "9227465"
      ]
     },
     "execution_count": 29,
     "metadata": {},
     "output_type": "execute_result"
    }
   ],
   "source": [
    "def get_fibonnaci(i):\n",
    "    if i == 0: return 0\n",
    "    if i == 1: return 1\n",
    "    return get_fibonnaci(i - 1) + get_fibonnaci(i - 2)\n",
    "\n",
    "get_fibonnaci(35)"
   ]
  },
  {
   "cell_type": "code",
   "execution_count": 32,
   "metadata": {},
   "outputs": [
    {
     "data": {
      "text/plain": [
       "9227465"
      ]
     },
     "execution_count": 32,
     "metadata": {},
     "output_type": "execute_result"
    }
   ],
   "source": [
    "def get_fibonnaci(i):\n",
    "    cache = [0 for i in range(0,i + 1)]\n",
    "    return fibonnaci(i,cache)\n",
    "\n",
    "def fibonnaci(i, cache):\n",
    "    if i == 0: return 0\n",
    "    if i == 1: return 1\n",
    "    if cache[i] > 0: return cache[i]\n",
    "    if cache[i - 1] == 0:\n",
    "        cache[i - 1] = fibonnaci(i - 1, cache)\n",
    "    if cache[i - 2] == 0:\n",
    "        cache[i - 2] = fibonnaci(i - 2, cache)\n",
    "    return cache[i - 1] + cache[i - 2]\n",
    "\n",
    "get_fibonnaci(35)"
   ]
  },
  {
   "cell_type": "code",
   "execution_count": null,
   "metadata": {},
   "outputs": [],
   "source": []
  }
 ],
 "metadata": {
  "kernelspec": {
   "display_name": "Python 3",
   "language": "python",
   "name": "python3"
  },
  "language_info": {
   "codemirror_mode": {
    "name": "ipython",
    "version": 3
   },
   "file_extension": ".py",
   "mimetype": "text/x-python",
   "name": "python",
   "nbconvert_exporter": "python",
   "pygments_lexer": "ipython3",
   "version": "3.7.4"
  }
 },
 "nbformat": 4,
 "nbformat_minor": 2
}
