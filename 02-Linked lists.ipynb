{
 "cells": [
  {
   "cell_type": "markdown",
   "metadata": {},
   "source": [
    "# Linked lists "
   ]
  },
  {
   "cell_type": "markdown",
   "metadata": {},
   "source": [
    "## Linked list"
   ]
  },
  {
   "cell_type": "markdown",
   "metadata": {},
   "source": [
    "![Linked list](img/02-linked-lists/01-linked-list.png)"
   ]
  },
  {
   "cell_type": "code",
   "execution_count": 1,
   "metadata": {},
   "outputs": [],
   "source": [
    "class Node:\n",
    "    def __init__(self, value):\n",
    "        self.value = value\n",
    "        self.next = None\n",
    "    \n",
    "    def append(self, value):\n",
    "        current_node = self\n",
    "        while current_node.next != None:\n",
    "            current_node = current_node.next\n",
    "        current_node.next = Node(value)\n",
    "    \n",
    "    def __str__(self):\n",
    "        current_node = self\n",
    "        result = ''\n",
    "        while current_node != None:\n",
    "            result = ' '.join([ result, str(current_node.value)])\n",
    "            current_node = current_node.next\n",
    "        return result"
   ]
  },
  {
   "cell_type": "code",
   "execution_count": 2,
   "metadata": {},
   "outputs": [
    {
     "name": "stdout",
     "output_type": "stream",
     "text": [
      " 4 2 6\n"
     ]
    }
   ],
   "source": [
    "list = Node(4)\n",
    "list.append(2)\n",
    "list.append(6)\n",
    "print(list)"
   ]
  },
  {
   "cell_type": "markdown",
   "metadata": {},
   "source": [
    "## Delete node"
   ]
  },
  {
   "cell_type": "markdown",
   "metadata": {},
   "source": [
    "![](files/02-linked-list-delete-node.png)"
   ]
  },
  {
   "cell_type": "code",
   "execution_count": 18,
   "metadata": {},
   "outputs": [],
   "source": [
    "class LinkedList():\n",
    "    \n",
    "    def __init__(self):\n",
    "        self.head = None\n",
    "    \n",
    "    def append(self, value):\n",
    "        if self.head == None:\n",
    "            self.head = Node(value)\n",
    "        else:\n",
    "            self.head.append(value)\n",
    "            \n",
    "    def delete_node(self, value):\n",
    "        if self.head.value == value:\n",
    "            node_to_delete = self.head\n",
    "            self.head = self.head.next\n",
    "            return node_to_delete\n",
    "        else:\n",
    "            current = self.head\n",
    "            while current.next != None:\n",
    "                next_node = current.next\n",
    "                if next_node.value == value:\n",
    "                    current.next = next_node.next\n",
    "                    return next_node\n",
    "                current = next_node\n",
    "                \n",
    "    def __str__(self):\n",
    "        return str(self.head)\n",
    "        "
   ]
  },
  {
   "cell_type": "code",
   "execution_count": 19,
   "metadata": {},
   "outputs": [
    {
     "name": "stdout",
     "output_type": "stream",
     "text": [
      " 6 8\n"
     ]
    }
   ],
   "source": [
    "l = LinkedList()\n",
    "l.append(5)\n",
    "l.append(6)\n",
    "l.append(8)\n",
    "l.delete_node(5)\n",
    "print(l)"
   ]
  },
  {
   "cell_type": "markdown",
   "metadata": {},
   "source": [
    "## Interview questions"
   ]
  },
  {
   "cell_type": "markdown",
   "metadata": {},
   "source": [
    "2.1: Remove dups:"
   ]
  },
  {
   "cell_type": "markdown",
   "metadata": {},
   "source": [
    "Write code to remove duplicates from an unsorted linked list."
   ]
  },
  {
   "cell_type": "markdown",
   "metadata": {},
   "source": [
    "![](img/02-linked-lists/03-exercise.png)"
   ]
  },
  {
   "cell_type": "code",
   "execution_count": 57,
   "metadata": {},
   "outputs": [],
   "source": [
    "class LinkedList():\n",
    "    def __init__(self):\n",
    "        self.head = None\n",
    "    \n",
    "    def append(self, value):\n",
    "        if self.head == None:\n",
    "            self.head = Node(value)\n",
    "        else:\n",
    "            self.head.append(value)\n",
    "    \n",
    "    def delete_duplicates(self):\n",
    "        current = self.head\n",
    "        if current == None:\n",
    "            return\n",
    "        seen = { current.value: True }\n",
    "        while current.next != None:\n",
    "            next_node = current.next\n",
    "            if seen.get(next_node.value):\n",
    "                current.next = next_node.next\n",
    "                next_node = current\n",
    "            else:\n",
    "                seen[next_node.value] = True\n",
    "            current = next_node\n",
    "    \n",
    "    def __str__(self):\n",
    "        return str(self.head)\n",
    "            "
   ]
  },
  {
   "cell_type": "code",
   "execution_count": 58,
   "metadata": {},
   "outputs": [
    {
     "name": "stdout",
     "output_type": "stream",
     "text": [
      " 5 3 7 3 7 5\n",
      " 5 3 7\n"
     ]
    }
   ],
   "source": [
    "l = LinkedList()\n",
    "l.append(5)\n",
    "l.append(3)\n",
    "l.append(7)\n",
    "l.append(3)\n",
    "l.append(7)\n",
    "l.append(5)\n",
    "print(l)\n",
    "l.delete_duplicates()\n",
    "print(l)"
   ]
  },
  {
   "cell_type": "code",
   "execution_count": null,
   "metadata": {},
   "outputs": [],
   "source": []
  }
 ],
 "metadata": {
  "kernelspec": {
   "display_name": "Python 3",
   "language": "python",
   "name": "python3"
  },
  "language_info": {
   "codemirror_mode": {
    "name": "ipython",
    "version": 3
   },
   "file_extension": ".py",
   "mimetype": "text/x-python",
   "name": "python",
   "nbconvert_exporter": "python",
   "pygments_lexer": "ipython3",
   "version": "3.7.4"
  }
 },
 "nbformat": 4,
 "nbformat_minor": 2
}
