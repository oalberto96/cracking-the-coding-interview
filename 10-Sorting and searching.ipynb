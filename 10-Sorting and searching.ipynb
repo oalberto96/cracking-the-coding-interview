{
 "cells": [
  {
   "cell_type": "markdown",
   "metadata": {},
   "source": [
    "# Sorting and searching"
   ]
  },
  {
   "cell_type": "markdown",
   "metadata": {},
   "source": [
    "## Merge sort"
   ]
  },
  {
   "cell_type": "markdown",
   "metadata": {},
   "source": [
    "![Hashmap analysis](img/10-sorting-and-searching/001-exercise.png)"
   ]
  },
  {
   "cell_type": "code",
   "execution_count": 62,
   "metadata": {},
   "outputs": [
    {
     "name": "stdout",
     "output_type": "stream",
     "text": [
      "[4, 5, 7, 1, 2, 6]\n",
      "[4, 5, 7, 1, 2, 6]\n",
      "[4]\n",
      "[5]\n",
      "[4, 5, 7, 1, 2, 6]\n",
      "[4, 5]\n",
      "[7]\n",
      "[4, 5, 7, 1, 2, 6]\n",
      "[1]\n",
      "[2]\n",
      "[4, 5, 7, 1, 2, 6]\n",
      "[1, 2]\n",
      "[6]\n",
      "[4, 5, 7, 1, 2, 6]\n",
      "[4, 5, 7]\n",
      "[1, 2, 6]\n",
      "[1, 2, 4, 5, 6, 7]\n"
     ]
    }
   ],
   "source": [
    "def merge_sort(arr):\n",
    "    aux = [i for i in arr]\n",
    "    sort(arr, aux, 0, len(arr) - 1)\n",
    "\n",
    "def sort(arr, aux, start, end):\n",
    "    if start < end:\n",
    "        middle = (end - start) // 2 + start\n",
    "        \n",
    "        sort(arr, aux, start, middle)\n",
    "        sort(arr, aux, middle + 1, end)\n",
    "        merge(arr, aux, start, end)\n",
    "\n",
    "def merge(arr, aux, start, end):\n",
    "    for index, value in enumerate(arr):\n",
    "        aux[index] = value\n",
    "    print(aux)\n",
    "    \n",
    "    middle = (end - start) // 2 + start\n",
    "    print(aux[start:middle + 1])\n",
    "    print(aux[middle+1:end+1])\n",
    "    leftIndex = start\n",
    "    rightIndex = middle + 1\n",
    "    index = start\n",
    "    \n",
    "    while leftIndex <= middle and rightIndex <= end:\n",
    "        if aux[leftIndex] < aux[rightIndex]:\n",
    "            arr[index] = aux[leftIndex]\n",
    "            leftIndex += 1\n",
    "        else:\n",
    "            arr[index] = aux[rightIndex]\n",
    "            rightIndex += 1\n",
    "        index += 1\n",
    "            \n",
    "    left_remaining = middle - leftIndex\n",
    "    for i in range(0, left_remaining + 1):\n",
    "        arr[index + i] = aux[leftIndex + i]\n",
    "\n",
    "    \n",
    "\n",
    "original_array = [4,5,7,1,2,6]\n",
    "sorted_array = [1,2,4,5,6,7]\n",
    "\n",
    "\n",
    "print(original_array)\n",
    "merge_sort(original_array)\n",
    "print(original_array)\n",
    "assert original_array == sorted_array   \n"
   ]
  },
  {
   "cell_type": "code",
   "execution_count": null,
   "metadata": {},
   "outputs": [],
   "source": []
  },
  {
   "cell_type": "code",
   "execution_count": null,
   "metadata": {},
   "outputs": [],
   "source": []
  }
 ],
 "metadata": {
  "kernelspec": {
   "display_name": "Python 3",
   "language": "python",
   "name": "python3"
  },
  "language_info": {
   "codemirror_mode": {
    "name": "ipython",
    "version": 3
   },
   "file_extension": ".py",
   "mimetype": "text/x-python",
   "name": "python",
   "nbconvert_exporter": "python",
   "pygments_lexer": "ipython3",
   "version": "3.7.4"
  }
 },
 "nbformat": 4,
 "nbformat_minor": 2
}
