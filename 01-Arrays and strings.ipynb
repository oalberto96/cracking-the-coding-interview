{
 "cells": [
  {
   "cell_type": "markdown",
   "metadata": {},
   "source": [
    "# Arrays and Strings"
   ]
  },
  {
   "cell_type": "markdown",
   "metadata": {},
   "source": [
    "## Hashmap"
   ]
  },
  {
   "cell_type": "markdown",
   "metadata": {},
   "source": [
    "![Hashmap analysis](img/01-arrays-and-strings/001-hashmap.png)"
   ]
  },
  {
   "cell_type": "markdown",
   "metadata": {},
   "source": [
    "Interview Questions"
   ]
  },
  {
   "cell_type": "markdown",
   "metadata": {},
   "source": [
    "**1.1 Is Unique**: Implement an algorithm to determine if a string has all unique characters. What if you cannot use additional data structures?"
   ]
  },
  {
   "cell_type": "markdown",
   "metadata": {},
   "source": [
    "![unique characters](img/01-arrays-and-strings/002-exercise.png)"
   ]
  },
  {
   "cell_type": "code",
   "execution_count": 6,
   "metadata": {},
   "outputs": [],
   "source": [
    "def are_unique_characters(word):\n",
    "    seen = {}\n",
    "    for c in word:\n",
    "        if seen.get(c):\n",
    "            return False\n",
    "        else:\n",
    "            seen[c] = True\n",
    "    return True\n",
    "    \n",
    "\n",
    "\n",
    "assert are_unique_characters('what') == True\n",
    "assert are_unique_characters('aasd') == False\n",
    "assert are_unique_characters('adhkna') == False"
   ]
  },
  {
   "cell_type": "markdown",
   "metadata": {},
   "source": [
    "![unique characters](img/01-arrays-and-strings/003-exercise-b.png)"
   ]
  },
  {
   "cell_type": "code",
   "execution_count": 27,
   "metadata": {},
   "outputs": [
    {
     "name": "stdout",
     "output_type": "stream",
     "text": [
      "[1, 0, 1]\n",
      "100\n",
      "100\n"
     ]
    },
    {
     "data": {
      "text/plain": [
       "True"
      ]
     },
     "execution_count": 27,
     "metadata": {},
     "output_type": "execute_result"
    }
   ],
   "source": [
    "import math\n",
    "class Solution:\n",
    "    def isPalindrome(self, x: int) -> bool:\n",
    "        if x < 0:\n",
    "            return False\n",
    "        if x < 10:\n",
    "            return True\n",
    "        number = x\n",
    "        reverse = []\n",
    "        if x%10 == 0:\n",
    "            reverse.append(10)\n",
    "        count = 0\n",
    "        while number > 10:\n",
    "            reverse.append(number%10)\n",
    "            number = math.floor(number/10)\n",
    "            if number == 10:\n",
    "                reverse.append(0)\n",
    "                reverse.append(1)\n",
    "                count += 1\n",
    "            if number < 10:\n",
    "                reverse.append(number)\n",
    "            count += 1\n",
    "        reversed_number = 0\n",
    "        print(reverse)\n",
    "        while count > 0:\n",
    "            reversed_number += 10**count * reverse.pop(0)\n",
    "            print(reversed_number)\n",
    "            count -= 1\n",
    "            if count == 0:\n",
    "                reversed_number += reverse.pop(0)\n",
    "        return reversed_number == x\n",
    "            \n",
    "s = Solution()\n",
    "s.isPalindrome(101)"
   ]
  },
  {
   "cell_type": "markdown",
   "metadata": {},
   "source": [
    "**1.2 Check permutation**: Give two strings, write a method to decide if one is a permutations of the other."
   ]
  },
  {
   "cell_type": "markdown",
   "metadata": {},
   "source": [
    "![unique characters](img/01-arrays-and-strings/004-exercise.png)"
   ]
  },
  {
   "cell_type": "code",
   "execution_count": 15,
   "metadata": {},
   "outputs": [],
   "source": [
    "def count_unique_characters(a):\n",
    "    result = {}\n",
    "    for i in a:\n",
    "        if result.get(i):\n",
    "            result[i] += 1\n",
    "        else:\n",
    "            result[i] = 1\n",
    "    return result\n",
    "        \n",
    "\n",
    "def is_permutation(a, b):\n",
    "    if len(a) != len(b):\n",
    "        return False\n",
    "    chars_count = count_unique_characters(a)\n",
    "    for i in b:\n",
    "        char_count = chars_count.get(i)\n",
    "        if char_count is None or char_count == 0:\n",
    "            return False\n",
    "        chars_count[i] -= 1\n",
    "    return True"
   ]
  },
  {
   "cell_type": "code",
   "execution_count": 19,
   "metadata": {},
   "outputs": [
    {
     "name": "stdout",
     "output_type": "stream",
     "text": [
      "True\n",
      "False\n"
     ]
    }
   ],
   "source": [
    "print(is_permutation('hola', 'halo'))\n",
    "print(is_permutation('ahlds', 'halo'))"
   ]
  },
  {
   "cell_type": "markdown",
   "metadata": {},
   "source": [
    "**1.3 Urify**: Write a method to replace all space in a string with \"%20\". You may assume that the string hasd suffficient space at the end to hold the additional characters, and that you are given the \"True\" length of the string\n",
    "\n",
    "Example\n",
    "\n",
    "Input: \"Mr John Smith   \"\n",
    "\n",
    "Output: \"Mr%20John%20Smith\"\n"
   ]
  },
  {
   "cell_type": "code",
   "execution_count": 1,
   "metadata": {},
   "outputs": [
    {
     "data": {
      "text/plain": [
       "'Mr%20John%20Smith'"
      ]
     },
     "execution_count": 1,
     "metadata": {},
     "output_type": "execute_result"
    }
   ],
   "source": [
    "def urify(text):\n",
    "    return text.replace(\" \", \"%20\")\n",
    "\n",
    "urify(\"Mr John Smith\")"
   ]
  },
  {
   "cell_type": "markdown",
   "metadata": {},
   "source": [
    "**1.4 Palindrome Permutation**: Given a string, write a function to check if it is a permutation of a palindrome. A palindrome is a word or a phrase that is the same forwards and backwards. A permutation is a rearrangement of letters. The palindrome does not need to be litemd to just dictionary words. You can ignore casing and non-letter characters.\n",
    "Example\n",
    "\n",
    "Input: Tact Coa\n",
    "\n",
    "Output: True (Permutations: \"taco cat\", \"atco cta\""
   ]
  },
  {
   "cell_type": "code",
   "execution_count": null,
   "metadata": {},
   "outputs": [],
   "source": []
  }
 ],
 "metadata": {
  "kernelspec": {
   "display_name": "Python 3",
   "language": "python",
   "name": "python3"
  },
  "language_info": {
   "codemirror_mode": {
    "name": "ipython",
    "version": 3
   },
   "file_extension": ".py",
   "mimetype": "text/x-python",
   "name": "python",
   "nbconvert_exporter": "python",
   "pygments_lexer": "ipython3",
   "version": "3.7.4"
  }
 },
 "nbformat": 4,
 "nbformat_minor": 2
}
