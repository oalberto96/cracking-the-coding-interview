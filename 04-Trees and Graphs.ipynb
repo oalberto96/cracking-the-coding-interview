{
 "cells": [
  {
   "cell_type": "markdown",
   "metadata": {},
   "source": [
    "# Trees and Graphs "
   ]
  },
  {
   "cell_type": "markdown",
   "metadata": {},
   "source": [
    "## Interview Questions"
   ]
  },
  {
   "cell_type": "markdown",
   "metadata": {},
   "source": [
    "**4.1 Route Between Nodes**: Given a directed graph, design an algorithm to find out whether there is a route between two nodes. "
   ]
  },
  {
   "cell_type": "markdown",
   "metadata": {},
   "source": [
    "![unique characters](img/04-trees-and-graphs/001-exercise.png)"
   ]
  },
  {
   "cell_type": "code",
   "execution_count": 3,
   "metadata": {},
   "outputs": [],
   "source": [
    "import math"
   ]
  },
  {
   "cell_type": "code",
   "execution_count": 5,
   "metadata": {},
   "outputs": [],
   "source": [
    "class Node():\n",
    "    \n",
    "    def __init__(self, name, children = []):\n",
    "        self.name = name\n",
    "        self.children = children"
   ]
  },
  {
   "cell_type": "code",
   "execution_count": 16,
   "metadata": {},
   "outputs": [],
   "source": [
    "class Graph():\n",
    "    \n",
    "    def __init__(self, nodes):\n",
    "        self.nodes = []\n",
    "        \n",
    "    def are_connected(self, a, b):\n",
    "        queue = [a]\n",
    "        seen = { a: True}\n",
    "        while len(queue) > 0:\n",
    "            current_node = queue.pop(0)\n",
    "            if seen.get(current_node):\n",
    "                pass\n",
    "            if current_node == b:\n",
    "                return True\n",
    "            queue.extend(current_node.children)\n",
    "            seen[current_node] = True\n",
    "        return False\n",
    "            "
   ]
  },
  {
   "cell_type": "code",
   "execution_count": 17,
   "metadata": {},
   "outputs": [],
   "source": [
    "a = Node('a')\n",
    "b = Node('b')\n",
    "c = Node('c')\n",
    "d = Node('d')\n",
    "f = Node('f')\n",
    "h = Node('h')\n",
    "z = Node('z')\n",
    "k = Node('k')\n",
    "a.children = [b, d]\n",
    "b.children = [d]\n",
    "d.children = [a, c, f]\n",
    "f.children = [c, h]\n",
    "h.children = [z]\n",
    "z.children = [k]\n",
    "\n",
    "nodes = [a, b, d, f, h, z] \n",
    "graph = Graph(nodes)"
   ]
  },
  {
   "cell_type": "code",
   "execution_count": 23,
   "metadata": {},
   "outputs": [],
   "source": [
    "assert graph.are_connected(a, k) == True\n",
    "assert graph.are_connected(k, a) == False\n",
    "assert graph.are_connected(c, h) == False"
   ]
  },
  {
   "cell_type": "markdown",
   "metadata": {},
   "source": [
    "**4.2 Minimal Tree**: Given a sorted (increasing order) array with unique integer elements, write an algorithm to create a binary search tree with minimal height"
   ]
  },
  {
   "cell_type": "markdown",
   "metadata": {},
   "source": [
    "![unique characters](img/04-trees-and-graphs/002-exercise.png)"
   ]
  },
  {
   "cell_type": "code",
   "execution_count": 55,
   "metadata": {},
   "outputs": [],
   "source": [
    "class TreeNode():\n",
    "    def __init__(self, value):\n",
    "        self.value = value\n",
    "        self.right = None\n",
    "        self.left = None\n",
    "        \n",
    "    def __str__(self, level = 0):\n",
    "        value = \"\\t\"*level + str(self.value) + \"\\n\"\n",
    "        value += \"l: \" + self.left.__str__(level +1) if self.left else \"\"\n",
    "        value += \"r: \" + self.right.__str__(level +1) if self.right else \"\"\n",
    "        return value\n",
    "        "
   ]
  },
  {
   "cell_type": "code",
   "execution_count": 57,
   "metadata": {},
   "outputs": [
    {
     "name": "stdout",
     "output_type": "stream",
     "text": [
      "3\n",
      "l: \t2\n",
      "l: \t\t1\n",
      "r: \t5\n",
      "l: \t\t4\n",
      "\n"
     ]
    }
   ],
   "source": [
    "def get_tree(numbers):\n",
    "    if len(numbers) == 1:\n",
    "        return TreeNode(numbers[0])\n",
    "    if len(numbers) > 2:\n",
    "        root_index = math.floor(len(numbers)/2)\n",
    "        node = TreeNode(numbers[root_index])\n",
    "        node.left = get_tree(numbers[:root_index])\n",
    "        node.right = get_tree(numbers[root_index + 1:])\n",
    "    else:\n",
    "        node = TreeNode(numbers[1])\n",
    "        node.left = TreeNode(numbers[0])\n",
    "    return node\n",
    "\n",
    "root = get_tree([1,2,3,4,5])\n",
    "print(root)"
   ]
  },
  {
   "cell_type": "code",
   "execution_count": null,
   "metadata": {},
   "outputs": [],
   "source": []
  }
 ],
 "metadata": {
  "kernelspec": {
   "display_name": "Python 3",
   "language": "python",
   "name": "python3"
  },
  "language_info": {
   "codemirror_mode": {
    "name": "ipython",
    "version": 3
   },
   "file_extension": ".py",
   "mimetype": "text/x-python",
   "name": "python",
   "nbconvert_exporter": "python",
   "pygments_lexer": "ipython3",
   "version": "3.7.4"
  }
 },
 "nbformat": 4,
 "nbformat_minor": 2
}
